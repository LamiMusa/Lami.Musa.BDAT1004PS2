{
 "cells": [
  {
   "cell_type": "code",
   "execution_count": 1,
   "id": "27eb24cf",
   "metadata": {},
   "outputs": [
    {
     "data": {
      "text/plain": [
       "6"
      ]
     },
     "execution_count": 1,
     "metadata": {},
     "output_type": "execute_result"
    }
   ],
   "source": [
    "#Question 1\n",
    "\n",
    "a = 0\n",
    "\n",
    "def b():\n",
    "    global a \n",
    "    a = c(a)\n",
    "\n",
    "def c(a):\n",
    "    return a + 2\n",
    "b()\n",
    "b()\n",
    "b()\n",
    "a"
   ]
  },
  {
   "cell_type": "code",
   "execution_count": null,
   "id": "800a590e",
   "metadata": {},
   "outputs": [],
   "source": [
    "#the global variable in the shell was intitally defined as a = 0. \n",
    "#The function c takes the global variable from the shell and returns a + 2\n",
    "#the function, b defines its global variable from function c\n",
    "#when the function b() is called, the c(a) is invoked, "
   ]
  },
  {
   "cell_type": "code",
   "execution_count": 14,
   "id": "8f0efb3b",
   "metadata": {},
   "outputs": [],
   "source": [
    "##question 2\n",
    "\n",
    "def fileLength(file_name):\n",
    "    file = open(file_name)\n",
    "    try:\n",
    "        contents = file.read()\n",
    "        file.close()\n",
    "        print(len(contents))\n",
    "    except: \n",
    "        print(\"file\", contents, \"not found\")\n"
   ]
  },
  {
   "cell_type": "code",
   "execution_count": 6,
   "id": "9a918746",
   "metadata": {},
   "outputs": [
    {
     "ename": "TypeError",
     "evalue": "__init__() missing 1 required positional argument: 'ycoord'",
     "output_type": "error",
     "traceback": [
      "\u001b[1;31m---------------------------------------------------------------------------\u001b[0m",
      "\u001b[1;31mTypeError\u001b[0m                                 Traceback (most recent call last)",
      "Input \u001b[1;32mIn [6]\u001b[0m, in \u001b[0;36m<cell line: 26>\u001b[1;34m()\u001b[0m\n\u001b[0;32m     23\u001b[0m     \u001b[38;5;28;01mdef\u001b[39;00m \u001b[38;5;21m__str__\u001b[39m(\u001b[38;5;28mself\u001b[39m):\n\u001b[0;32m     24\u001b[0m         \u001b[38;5;28mprint\u001b[39m(\u001b[38;5;124m\"\u001b[39m\u001b[38;5;124mI am a Kangaroo located at coordinated\u001b[39m\u001b[38;5;124m\"\u001b[39m, \u001b[38;5;28mformat\u001b[39m(xcoord, ycoord))\n\u001b[1;32m---> 26\u001b[0m k \u001b[38;5;241m=\u001b[39m \u001b[43mkangaroo\u001b[49m\u001b[43m(\u001b[49m\u001b[38;5;241;43m0\u001b[39;49m\u001b[43m,\u001b[49m\u001b[38;5;241;43m0\u001b[39;49m\u001b[43m)\u001b[49m\n\u001b[0;32m     27\u001b[0m \u001b[38;5;28mprint\u001b[39m(k)\n\u001b[0;32m     29\u001b[0m k\u001b[38;5;241m.\u001b[39mput_in_pouch(\u001b[38;5;124m\"\u001b[39m\u001b[38;5;124mdoll\u001b[39m\u001b[38;5;124m\"\u001b[39m)\n",
      "\u001b[1;31mTypeError\u001b[0m: __init__() missing 1 required positional argument: 'ycoord'"
     ]
    }
   ],
   "source": [
    "##QUESTION 3\n",
    "\n",
    "class Marsupial:\n",
    "    def __init__(self, put_in_pouch):\n",
    "        self.pouch = put_in_pouch\n",
    "        \n",
    "    def contents(self):\n",
    "        return list.self.append()\n",
    "\n",
    "class kangaroo(Marsupial):\n",
    "    \n",
    "    def __init__(self, put_in_pouch, xcoord, ycoord):\n",
    "        self.x = xcoord\n",
    "        self.y = ycoord\n",
    "        \n",
    "    def contents(self):\n",
    "        list.self.append\n",
    "        \n",
    "    def jump(self, dx, dy):\n",
    "        self.x = dx\n",
    "        self.y = dy\n",
    "        \n",
    "    def __str__(self):\n",
    "        print(\"I am a Kangaroo located at coordinated\", format(xcoord, ycoord))\n",
    "    \n",
    "k = kangaroo(0,0)\n",
    "print(k)\n",
    "\n",
    "k.put_in_pouch(\"doll\")\n",
    "k.put_in_pouch(\"firetruck\")\n",
    "k.put_in_pouch(\"kitten\")\n",
    "k.contents()\n",
    "\n",
    "k.jump(1,0)\n",
    "k.jump(1,0)\n",
    "k.jump(1,0)\n",
    "print(k)"
   ]
  },
  {
   "cell_type": "code",
   "execution_count": 1,
   "id": "3746b3ae",
   "metadata": {},
   "outputs": [
    {
     "name": "stdout",
     "output_type": "stream",
     "text": [
      "5\n"
     ]
    }
   ],
   "source": [
    "## QUESTION 4\n",
    "\n",
    "def collatz(x):\n",
    "        if x%2 == 0:\n",
    "            collatz(x//2)\n",
    "            print(x//2)\n",
    "        else:\n",
    "            return (3*x) + 1\n",
    "    \n",
    "collatz(10)"
   ]
  },
  {
   "cell_type": "code",
   "execution_count": 1,
   "id": "65359720",
   "metadata": {},
   "outputs": [
    {
     "name": "stdout",
     "output_type": "stream",
     "text": [
      "0\n",
      "0 1\n",
      "1 1\n",
      "1 1 1\n",
      "1 0 0 1 "
     ]
    }
   ],
   "source": [
    "##QUESTION 5\n",
    "\n",
    "def binary(n):\n",
    "    if n <= 1:\n",
    "        print(n)\n",
    "    else:\n",
    "        binary(n//2)\n",
    "    print(n%2, end = ' ')\n",
    "binary(0)\n",
    "binary(1)\n",
    "binary(3)\n",
    "binary(9)"
   ]
  },
  {
   "cell_type": "code",
   "execution_count": 5,
   "id": "da8a5b54",
   "metadata": {},
   "outputs": [
    {
     "ename": "SyntaxError",
     "evalue": "invalid syntax (3837067900.py, line 8)",
     "output_type": "error",
     "traceback": [
      "\u001b[1;36m  Input \u001b[1;32mIn [5]\u001b[1;36m\u001b[0m\n\u001b[1;33m    cur.executeSELECT * FROM table\u001b[0m\n\u001b[1;37m                             ^\u001b[0m\n\u001b[1;31mSyntaxError\u001b[0m\u001b[1;31m:\u001b[0m invalid syntax\n"
     ]
    }
   ],
   "source": [
    "##QUESTION 8\n",
    "\n",
    "\n",
    "cur.execute(\"SELECT Temperature FROM table\")\n",
    "\n",
    "cur.execute(\"SELECT city FROM table GROUP BY city\")\n",
    "\n",
    "cur.executeSELECT * FROM table \n",
    "WHERE city = \"india\"\n",
    "\n",
    "cur.execute(\"SELECT * FROM table  WHERE season = 'fall'\")\n",
    "\n",
    "cur.execute(\"SELECT city, country, season, AVG(rainfall) FROM table WHERE 200 >= AVG(rainfaill) <= 400\")\n",
    "\n",
    "cur.execute(\"SELECT city, country, AVG(fall) as avg_fall FROM table WHERE AVG(fall) > 20 ORDER BY temperature\") \n",
    "\n",
    "cur.execute(\"SELECT city, SUM(rainfall) FROM table  where city = 'cairo'\")\n",
    "\n",
    "cur.execute(\"SELECT season, SUM(rainfall) FROM table GROUP BY Season\")\n"
   ]
  },
  {
   "cell_type": "code",
   "execution_count": 7,
   "id": "9542b560",
   "metadata": {},
   "outputs": [
    {
     "data": {
      "text/plain": [
       "['THE', 'QUICK', 'BROWN', 'FOX', 'JUMPS', 'OVER', 'THE', 'LAZY', 'DOG']"
      ]
     },
     "execution_count": 7,
     "metadata": {},
     "output_type": "execute_result"
    }
   ],
   "source": [
    "## QUESTION 9\n",
    "\n",
    "words = [\"The\", \"quick\", \"brown\", \"fox\", \"jumps\", \"over\", \"the\", \"lazy\", \"dog\"]\n",
    "\n",
    "newlist = [word.upper() for word in words]\n",
    "newlist\n"
   ]
  },
  {
   "cell_type": "code",
   "execution_count": 6,
   "id": "d65392e8",
   "metadata": {},
   "outputs": [
    {
     "data": {
      "text/plain": [
       "['the', 'quick', 'brown', 'fox', 'jumps', 'over', 'the', 'lazy', 'dog']"
      ]
     },
     "execution_count": 6,
     "metadata": {},
     "output_type": "execute_result"
    }
   ],
   "source": [
    "a_newlist = [word.lower() for word in words]\n",
    "a_newlist"
   ]
  },
  {
   "cell_type": "code",
   "execution_count": 5,
   "id": "640e1ea2",
   "metadata": {},
   "outputs": [
    {
     "data": {
      "text/plain": [
       "[3, 5, 5, 3, 5, 4, 3, 4, 3]"
      ]
     },
     "execution_count": 5,
     "metadata": {},
     "output_type": "execute_result"
    }
   ],
   "source": [
    "len_words = [len(word) for word in words]\n",
    "len_words"
   ]
  },
  {
   "cell_type": "code",
   "execution_count": 4,
   "id": "4f27c935",
   "metadata": {},
   "outputs": [
    {
     "data": {
      "text/plain": [
       "['quick', 'brown', 'jumps', 'over', 'lazy']"
      ]
     },
     "execution_count": 4,
     "metadata": {},
     "output_type": "execute_result"
    }
   ],
   "source": [
    "more_than_4 = [word for word in words if len(word) >= 4]\n",
    "more_than_4"
   ]
  },
  {
   "cell_type": "code",
   "execution_count": null,
   "id": "93c38e14",
   "metadata": {},
   "outputs": [],
   "source": []
  }
 ],
 "metadata": {
  "kernelspec": {
   "display_name": "Python 3 (ipykernel)",
   "language": "python",
   "name": "python3"
  },
  "language_info": {
   "codemirror_mode": {
    "name": "ipython",
    "version": 3
   },
   "file_extension": ".py",
   "mimetype": "text/x-python",
   "name": "python",
   "nbconvert_exporter": "python",
   "pygments_lexer": "ipython3",
   "version": "3.9.12"
  }
 },
 "nbformat": 4,
 "nbformat_minor": 5
}
